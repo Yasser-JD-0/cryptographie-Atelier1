{
 "cells": [
  {
   "cell_type": "markdown",
   "id": "097bbcd2",
   "metadata": {},
   "source": [
    "### 1.1 Implémentation du Chiffrement par Décalage (+3) - Chiffre de César\n",
    "Nous allons maintenant implémenter un chiffrement de type chiffre de César avec un décalage de +3, en utilisant des blocs de 4 caractères.\n",
    "\n",
    "#### Fonction `block_cipher_encrypt`\n",
    "Cette fonction recevra le texte à chiffrer et appliquera le décalage de +3 pour chaque caractère dans des blocs de 4.\n",
    "\n",
    "#### Fonction `block_cipher_decrypt`\n",
    "La fonction de déchiffrement prendra le texte chiffré et utilisera un décalage inverse (-3) pour restaurer le texte original.\n",
    "\n",
    "#### Exemple :\n",
    "Si le message est \"HELLO\", chaque lettre sera décalée :\n",
    "- H -> K\n",
    "- E -> H\n",
    "- L -> O\n",
    "- L -> O\n",
    "- O -> R\n",
    "\n",
    "Le texte chiffré devient \"KHOOR\".\n"
   ]
  },
  {
   "cell_type": "code",
   "execution_count": 93,
   "id": "7b4ac853",
   "metadata": {},
   "outputs": [
    {
     "name": "stdout",
     "output_type": "stream",
     "text": [
      "Message : HELLO\n",
      "Chiffré : KHOOR   \n",
      "Déchiffré : HELLO   \n"
     ]
    }
   ],
   "source": [
    "\n",
    "# Fonction pour chiffrer par décalage de +3 (Chiffre de César)\n",
    "def block_cipher_encrypt(plaintext, shift=3, block_size=4):\n",
    "    \n",
    "    padding = block_size - len(plaintext) % block_size\n",
    "    plaintext += ' ' * padding  \n",
    "    \n",
    "    ciphertext = \"\"\n",
    "    \n",
    "    \n",
    "    for i in range(0, len(plaintext), block_size):\n",
    "        block = plaintext[i:i+block_size]\n",
    "        encrypted_block = \"\"\n",
    "        for char in block:\n",
    "            \n",
    "            if char.isalpha(): \n",
    "                shifted_char = chr(((ord(char.upper()) - 65 + shift) % 26) + 65)\n",
    "                encrypted_block += shifted_char\n",
    "            else:\n",
    "                encrypted_block += char \n",
    "        ciphertext += encrypted_block\n",
    "    return ciphertext\n",
    "\n",
    "# Fonction pour déchiffrer le texte avec un décalage inverse\n",
    "def block_cipher_decrypt(ciphertext, shift=3, block_size=4):\n",
    "    plaintext = \"\"\n",
    "    for i in range(0, len(ciphertext), block_size):\n",
    "        block = ciphertext[i:i+block_size]\n",
    "        decrypted_block = \"\"\n",
    "        for char in block:\n",
    "            if char.isalpha():\n",
    "                shifted_char = chr(((ord(char.upper()) - 65 - shift) % 26) + 65)\n",
    "                decrypted_block += shifted_char\n",
    "            else:\n",
    "                decrypted_block += char\n",
    "        plaintext += decrypted_block\n",
    "    return plaintext\n",
    "\n",
    "\n",
    "message = \"HELLO\"\n",
    "encrypted = block_cipher_encrypt(message)\n",
    "decrypted = block_cipher_decrypt(encrypted)\n",
    "\n",
    "\n",
    "print(f\"Message : {message}\")\n",
    "print(f\"Chiffré : {encrypted}\")\n",
    "print(f\"Déchiffré : {decrypted}\")\n"
   ]
  },
  {
   "cell_type": "markdown",
   "id": "19cb65d8",
   "metadata": {},
   "source": [
    "### 2.1 Chiffrement par XOR avec un flux de clé statique\n",
    "Dans cette partie de l'exercice, nous allons implémenter un chiffrement symétrique par XOR utilisant une clé statique. Le même flux de clé sera utilisé pour chaque caractère du message.\n",
    "\n",
    "#### Fonction `stream_cipher_encrypt`\n",
    "Cette fonction recevra le texte à chiffrer et appliquera un XOR avec la clé sur chaque caractère.\n",
    "\n",
    "#### Fonction `stream_cipher_decrypt`\n",
    "La fonction de déchiffrement prendra le texte chiffré et appliquera le même XOR pour récupérer le texte original.\n",
    "\n",
    "#### Exemple :\n",
    "Si le message est \"HELLO\" et que la clé est `[7, 3, 5, 2, 6]`, le chiffrement XOR changera chaque caractère en fonction de la clé et donnera un texte chiffré.\n"
   ]
  },
  {
   "cell_type": "code",
   "execution_count": 94,
   "id": "2f65d8bc",
   "metadata": {},
   "outputs": [
    {
     "name": "stdout",
     "output_type": "stream",
     "text": [
      "Message : HELLO\n",
      "Chiffré : 7970737873 (en bytes)\n",
      "Déchiffré: HELLO\n"
     ]
    }
   ],
   "source": [
    "# Fonction de chiffrement XOR\n",
    "\n",
    "def stream_cipher_encrypt(plaintext, key_stream):\n",
    "    ciphertext = []\n",
    "    for i, char in enumerate(plaintext):\n",
    "        encrypted_char = chr(ord(char) ^ key_stream[i % len(key_stream)])\n",
    "        ciphertext.append(encrypted_char)\n",
    "    return ''.join(ciphertext)\n",
    "\n",
    "# Fonction de déchiffrement XOR\n",
    "def stream_cipher_decrypt(ciphertext, key_stream):\n",
    "    plaintext = []\n",
    "    for i,char in enumerate(ciphertext):\n",
    "        decrypted_char = chr(ord(char) ^ key_stream[i % len(key_stream)])\n",
    "        plaintext.append(decrypted_char)\n",
    "    return ''.join(plaintext)\n",
    "\n",
    "message = \"HELLO\"\n",
    "key_stream = [7, 3, 5, 2, 6]\n",
    "encrypted = stream_cipher_encrypt(message, key_stream)\n",
    "decrypted = stream_cipher_decrypt(encrypted, key_stream)\n",
    "\n",
    "print(f\"Message : {message}\")\n",
    "print(f\"Chiffré : {''.join([str(ord(c)) for c in encrypted])} (en bytes)\")\n",
    "print(f\"Déchiffré: {decrypted}\")"
   ]
  },
  {
   "cell_type": "markdown",
   "id": "5a040825",
   "metadata": {},
   "source": [
    "###  Exercice 3.1 – Partie 3 : Implémentation du mini-DES (niveau avancé)\n",
    "\n",
    "Cette partie vise à implémenter un chiffrement de type DES simplifié (mini-DES) sans utiliser de bibliothèques cryptographiques.\n",
    "\n",
    "Nous allons appliquer un schéma en 8 rounds de type Feistel, avec :\n",
    "\n",
    "- Permutation Initiale (IP)\n",
    "- Découpage en blocs (gauche et droite)\n",
    "- Génération de sous-clés à partir d’une clé principale\n",
    "- Rounds de chiffrement avec expansion, XOR, S-box, permutation\n",
    "- Permutation Finale (FP)\n",
    "\n",
    "Toutes les opérations sont basées sur des manipulations de bits et des tableaux simples.\n",
    "\n"
   ]
  },
  {
   "cell_type": "code",
   "execution_count": 99,
   "id": "b67b807e",
   "metadata": {},
   "outputs": [],
   "source": [
    "# Fonctions utilitaires\n",
    "def permute(bits, table):\n",
    "    return [bits[i] for i in table]\n",
    "\n",
    "def xor(bits1, bits2):\n",
    "    return [b1 ^ b2 for b1, b2 in zip(bits1, bits2)]\n",
    "\n",
    "def to_bits(n, length=8):\n",
    "    return [int(b) for b in format(n, f'0{length}b')]\n",
    "\n",
    "def from_bits(bits):\n",
    "    return int(''.join(str(b) for b in bits), 2)"
   ]
  },
  {
   "cell_type": "code",
   "execution_count": 100,
   "id": "5171d0fd",
   "metadata": {},
   "outputs": [],
   "source": [
    "# Tables\n",
    "IP = [1, 5, 2, 0, 3, 7, 4, 6]\n",
    "FP = [3, 0, 2, 4, 6, 1, 7, 5]\n",
    "EXPANSION = [3, 0, 1, 2, 1, 2]\n",
    "\n",
    "SBOX = {\n",
    "    (0, 0, 0): [0, 1],\n",
    "    (0, 0, 1): [1, 0],\n",
    "    (0, 1, 0): [1, 1],\n",
    "    (0, 1, 1): [0, 0],\n",
    "    (1, 0, 0): [0, 0],\n",
    "    (1, 0, 1): [1, 1],\n",
    "    (1, 1, 0): [1, 0],\n",
    "    (1, 1, 1): [0, 1],\n",
    "}"
   ]
  },
  {
   "cell_type": "code",
   "execution_count": 101,
   "id": "f945c596",
   "metadata": {},
   "outputs": [],
   "source": [
    "def generate_subkeys(key_bits, rounds=8):\n",
    "    subkeys = []\n",
    "    for i in range(rounds):\n",
    "        rotated = key_bits[i:] + key_bits[:i]\n",
    "        subkeys.append(rotated[:6])\n",
    "    return subkeys\n",
    "\n",
    "def feistel(right, subkey):\n",
    "    expanded = permute(right, EXPANSION)\n",
    "    xored = xor(expanded, subkey)\n",
    "    left_half = xored[:3]\n",
    "    right_half = xored[3:]\n",
    "    return SBOX[tuple(left_half)] + SBOX[tuple(right_half)]"
   ]
  },
  {
   "cell_type": "code",
   "execution_count": 102,
   "id": "3a5b040d",
   "metadata": {},
   "outputs": [],
   "source": [
    "def mini_des_encrypt(block_int, key_int, rounds=8):\n",
    "    block = to_bits(block_int)\n",
    "    key_bits = to_bits(key_int)\n",
    "    block = permute(block, IP)\n",
    "    L, R = block[:4], block[4:]\n",
    "    subkeys = generate_subkeys(key_bits, rounds)\n",
    "    for i in range(rounds):\n",
    "        F = feistel(R, subkeys[i])\n",
    "        new_R = xor(L, F)\n",
    "        L, R = R, new_R\n",
    "    final_block = permute(R + L, FP)\n",
    "    return from_bits(final_block)\n",
    "\n",
    "def mini_des_decrypt(cipher_int, key_int, rounds=8):\n",
    "    block = to_bits(cipher_int)\n",
    "    key_bits = to_bits(key_int)\n",
    "    block = permute(block, IP)\n",
    "    L, R = block[:4], block[4:]\n",
    "    subkeys = generate_subkeys(key_bits, rounds)\n",
    "    for i in reversed(range(rounds)):\n",
    "        F = feistel(R, subkeys[i])\n",
    "        new_R = xor(L, F)\n",
    "        L, R = R, new_R\n",
    "    final_block = permute(R + L, FP)\n",
    "    return from_bits(final_block)"
   ]
  },
  {
   "cell_type": "code",
   "execution_count": 103,
   "id": "8947e5ca",
   "metadata": {},
   "outputs": [
    {
     "name": "stdout",
     "output_type": "stream",
     "text": [
      "Plaintext : 65 ('A')\n",
      "Chiffré   : 73\n",
      "Déchiffré : 65 ('A')\n"
     ]
    }
   ],
   "source": [
    "plaintext = ord('A')  # ASCII 'A' = 65\n",
    "key = 0b10101010      # clé de 8 bits\n",
    "\n",
    "cipher = mini_des_encrypt(plaintext, key)\n",
    "decrypted = mini_des_decrypt(cipher, key)\n",
    "\n",
    "print(f\"Plaintext : {plaintext} ('{chr(plaintext)}')\")\n",
    "print(f\"Chiffré   : {cipher}\")\n",
    "print(f\"Déchiffré : {decrypted} ('{chr(decrypted)}')\")\n"
   ]
  }
 ],
 "metadata": {
  "kernelspec": {
   "display_name": "leve",
   "language": "python",
   "name": "python3"
  },
  "language_info": {
   "codemirror_mode": {
    "name": "ipython",
    "version": 3
   },
   "file_extension": ".py",
   "mimetype": "text/x-python",
   "name": "python",
   "nbconvert_exporter": "python",
   "pygments_lexer": "ipython3",
   "version": "3.12.3"
  }
 },
 "nbformat": 4,
 "nbformat_minor": 5
}
