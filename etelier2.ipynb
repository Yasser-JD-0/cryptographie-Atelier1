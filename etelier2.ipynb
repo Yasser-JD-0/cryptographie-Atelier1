{
 "cells": [
  {
   "cell_type": "markdown",
   "id": "dfa970ba",
   "metadata": {},
   "source": [
    "        Étape 1 : Illustration du secret parfait (chiffrement de Vernam)"
   ]
  },
  {
   "cell_type": "markdown",
   "id": "69ab1c04",
   "metadata": {},
   "source": [
    "        Objectif :\n",
    " - Générer une clé aléatoire de même taille que le message.\n",
    " - Chiffrer avec un XOR caractère par caractère.\n",
    " - Déchiffrer avec la même clé.\n",
    " - Vérifier qu'une mauvaise clé ne permet pas de retrouver le message."
   ]
  },
  {
   "cell_type": "markdown",
   "id": "fefb05d9",
   "metadata": {},
   "source": [
    "            Exercice 1 – Chiffrement de Vernam (XOR)"
   ]
  },
  {
   "cell_type": "markdown",
   "id": "e1739ec3",
   "metadata": {},
   "source": [
    "1. Génération d'une clé aléatoire de même longueur que le message"
   ]
  },
  {
   "cell_type": "code",
   "execution_count": 27,
   "id": "f7e8527d",
   "metadata": {},
   "outputs": [
    {
     "name": "stdout",
     "output_type": "stream",
     "text": [
      "Message clair : HELLOCRYPTO\n",
      "Clé générée  : <'IR6(l,Gw&\n"
     ]
    }
   ],
   "source": [
    "import random\n",
    "import string\n",
    "\n",
    "\n",
    "def generer_cle_aleatoire(taille):\n",
    "    caracteres = string.printable  \n",
    "    return ''.join(random.choice(caracteres) for _ in range(taille))\n",
    "\n",
    "\n",
    "message_clair = \"HELLOCRYPTO\"\n",
    "\n",
    "\n",
    "cle = generer_cle_aleatoire(len(message_clair))\n",
    "\n",
    "print(f\"Message clair : {message_clair}\")\n",
    "print(f\"Clé générée  : {cle}\")"
   ]
  },
  {
   "cell_type": "markdown",
   "id": "bd937345",
   "metadata": {},
   "source": [
    "2. Fonction de chiffrement XOR"
   ]
  },
  {
   "cell_type": "code",
   "execution_count": 28,
   "id": "bbd46d9e",
   "metadata": {},
   "outputs": [
    {
     "name": "stdout",
     "output_type": "stream",
     "text": [
      "Message chiffré : tb\u0005\u001eyk>u\u0017#i\n"
     ]
    }
   ],
   "source": [
    "\n",
    "def chiffrer_vernam(message, cle):\n",
    "    return ''.join(chr(ord(m) ^ ord(k)) for m, k in zip(message, cle))\n",
    "\n",
    "\n",
    "message_chiffre = chiffrer_vernam(message_clair, cle)\n",
    "\n",
    "print(f\"Message chiffré : {message_chiffre}\")\n"
   ]
  },
  {
   "cell_type": "markdown",
   "id": "3a29fe99",
   "metadata": {},
   "source": [
    "3. Fonction de déchiffrement XOR"
   ]
  },
  {
   "cell_type": "code",
   "execution_count": 29,
   "id": "a9151540",
   "metadata": {},
   "outputs": [
    {
     "name": "stdout",
     "output_type": "stream",
     "text": [
      "Message déchiffré : HELLOCRYPTO\n"
     ]
    }
   ],
   "source": [
    "\n",
    "def dechiffrer_vernam(message_chiffre, cle):\n",
    "    return ''.join(chr(ord(c) ^ ord(k)) for c, k in zip(message_chiffre, cle))\n",
    "\n",
    "\n",
    "message_dechiffre = dechiffrer_vernam(message_chiffre, cle)\n",
    "\n",
    "print(f\"Message déchiffré : {message_dechiffre}\")\n"
   ]
  },
  {
   "cell_type": "markdown",
   "id": "20b7e16a",
   "metadata": {},
   "source": [
    "4. Vérification avec une clé incorrecte"
   ]
  },
  {
   "cell_type": "code",
   "execution_count": 30,
   "id": "34fb8f5f",
   "metadata": {},
   "outputs": [
    {
     "name": "stdout",
     "output_type": "stream",
     "text": [
      "Message déchiffré avec mauvaise clé : ]<u=2\u00186\u0011>\n"
     ]
    }
   ],
   "source": [
    "\n",
    "mauvaise_cle = generer_cle_aleatoire(len(message_clair))\n",
    "\n",
    "\n",
    "message_mauvais = dechiffrer_vernam(message_chiffre, mauvaise_cle)\n",
    "\n",
    "print(f\"Message déchiffré avec mauvaise clé : {message_mauvais}\")"
   ]
  },
  {
   "cell_type": "markdown",
   "id": "d1e405ce",
   "metadata": {},
   "source": [
    "             Exercice 2 – Chiffrement par transposition"
   ]
  },
  {
   "cell_type": "markdown",
   "id": "0db2f492",
   "metadata": {},
   "source": [
    "        1. Explication de l'objectif\n",
    " - Prendre un message clair.\n",
    " - Le découper en blocs de la même taille que la clé (ici taille = 8).\n",
    " - Réarranger les caractères de chaque bloc selon l’ordre donné par la clé [8,4,7,6,1,2,5,3].\n",
    " - Définir 2 fonctions :\n",
    "     * transposer(message, cle)\n",
    "     * detransposer(message_chiffre, cle)"
   ]
  },
  {
   "cell_type": "markdown",
   "id": "5fd38718",
   "metadata": {},
   "source": [
    "        2. Fonctions de chiffrement (transposition)"
   ]
  },
  {
   "cell_type": "code",
   "execution_count": 31,
   "id": "a0838501",
   "metadata": {},
   "outputs": [
    {
     "name": "stdout",
     "output_type": "stream",
     "text": [
      "Message clair    : MESSAGETRANSPO\n",
      "Message transposé: TSEGMEAS S ORAPN\n"
     ]
    }
   ],
   "source": [
    "def transposer(message, cle):\n",
    "    taille_bloc = len(cle)\n",
    "    message_chiffre = ''\n",
    "    \n",
    "\n",
    "    padding_size = (taille_bloc - len(message) % taille_bloc) % taille_bloc\n",
    "    message += ' ' * padding_size  \n",
    "\n",
    "    for i in range(0, len(message), taille_bloc):\n",
    "        bloc = message[i:i+taille_bloc]\n",
    "        bloc_chiffre = [''] * taille_bloc\n",
    "        for idx, position in enumerate(cle):\n",
    "            bloc_chiffre[idx] = bloc[position - 1] \n",
    "        message_chiffre += ''.join(bloc_chiffre)\n",
    "    \n",
    "    return message_chiffre\n",
    "\n",
    "\n",
    "message_clair = \"MESSAGETRANSPO\"\n",
    "cle_transpo = [8, 4, 7, 6, 1, 2, 5, 3]\n",
    "\n",
    "message_chiffre = transposer(message_clair, cle_transpo)\n",
    "\n",
    "print(f\"Message clair    : {message_clair}\")\n",
    "print(f\"Message transposé: {message_chiffre}\")\n"
   ]
  },
  {
   "cell_type": "markdown",
   "id": "41778b20",
   "metadata": {},
   "source": [
    "        3. Fonction de déchiffrement (inverse de la transposition)"
   ]
  },
  {
   "cell_type": "code",
   "execution_count": 32,
   "id": "afeb9877",
   "metadata": {},
   "outputs": [
    {
     "name": "stdout",
     "output_type": "stream",
     "text": [
      "Message déchiffré : MESSAGETRANSPO  \n"
     ]
    }
   ],
   "source": [
    "def detransposer(message_chiffre, cle):\n",
    "    taille_bloc = len(cle)\n",
    "    message_dechiffre = ''\n",
    "    \n",
    "   \n",
    "    cle_inverse = [0] * taille_bloc\n",
    "    for i, position in enumerate(cle):\n",
    "        cle_inverse[position - 1] = i\n",
    "    \n",
    "    for i in range(0, len(message_chiffre), taille_bloc):\n",
    "        bloc = message_chiffre[i:i+taille_bloc]\n",
    "        bloc_dechiffre = [''] * taille_bloc\n",
    "        for idx, position in enumerate(cle_inverse):\n",
    "            bloc_dechiffre[idx] = bloc[position]\n",
    "        message_dechiffre += ''.join(bloc_dechiffre)\n",
    "    \n",
    "    return message_dechiffre\n",
    "\n",
    "\n",
    "message_dechiffre = detransposer(message_chiffre, cle_transpo)\n",
    "\n",
    "print(f\"Message déchiffré : {message_dechiffre}\")\n"
   ]
  },
  {
   "cell_type": "markdown",
   "id": "5a7efbc0",
   "metadata": {},
   "source": [
    "        Exercice 3 – Chiffrement de César"
   ]
  },
  {
   "cell_type": "markdown",
   "id": "3cefcd22",
   "metadata": {},
   "source": [
    "        1. Explication rapide\n",
    " - Le chiffre de César consiste à décaler chaque lettre de l’alphabet d’un nombre fixe de positions.\n",
    "\n",
    " - Par exemple, avec un décalage de 3 :\n",
    "\n",
    "     - A → D, B → E, X → A\n",
    "\n",
    " - L’alphabet est considéré comme cyclique."
   ]
  },
  {
   "cell_type": "markdown",
   "id": "794419da",
   "metadata": {},
   "source": [
    "        2. Fonctions de chiffrement et déchiffrement en Python"
   ]
  },
  {
   "cell_type": "code",
   "execution_count": 33,
   "id": "dd2f5755",
   "metadata": {},
   "outputs": [],
   "source": [
    "def chiffrer_cesar(message, decalage):\n",
    "    resultat = \"\"\n",
    "    for caractere in message:\n",
    "        if caractere.isalpha():\n",
    "            base = ord('A') if caractere.isupper() else ord('a')\n",
    "            code = (ord(caractere) - base + decalage) % 26 + base\n",
    "            resultat += chr(code)\n",
    "        else:\n",
    "            resultat += caractere  \n",
    "    return resultat\n",
    "\n",
    "def dechiffrer_cesar(message, decalage):\n",
    "    return chiffrer_cesar(message, -decalage)\n"
   ]
  },
  {
   "cell_type": "markdown",
   "id": "91ac6d96",
   "metadata": {},
   "source": [
    "        3. Exemple d’utilisation"
   ]
  },
  {
   "cell_type": "code",
   "execution_count": 34,
   "id": "b87feb08",
   "metadata": {},
   "outputs": [
    {
     "name": "stdout",
     "output_type": "stream",
     "text": [
      "Message chiffré : ErqmrxuOhPrqgh\n",
      "Message déchiffré : BonjourLeMonde\n"
     ]
    }
   ],
   "source": [
    "message = \"BonjourLeMonde\"\n",
    "decalage = 3\n",
    "\n",
    "# Chiffrement\n",
    "message_chiffre = chiffrer_cesar(message, decalage)\n",
    "print(f\"Message chiffré : {message_chiffre}\")\n",
    "\n",
    "# Déchiffrement\n",
    "message_dechiffre = dechiffrer_cesar(message_chiffre, decalage)\n",
    "print(f\"Message déchiffré : {message_dechiffre}\")\n"
   ]
  },
  {
   "cell_type": "markdown",
   "id": "3645e39e",
   "metadata": {},
   "source": [
    "        4. Tester avec un mauvais décalage"
   ]
  },
  {
   "cell_type": "code",
   "execution_count": 35,
   "id": "0eda2188",
   "metadata": {},
   "outputs": [
    {
     "name": "stdout",
     "output_type": "stream",
     "text": [
      "Message déchiffré avec mauvais décalage : ZmlhmspJcKmlbc\n"
     ]
    }
   ],
   "source": [
    "mauvais_decalage = 5\n",
    "message_faux = dechiffrer_cesar(message_chiffre, mauvais_decalage)\n",
    "print(f\"Message déchiffré avec mauvais décalage : {message_faux}\")"
   ]
  }
 ],
 "metadata": {
  "kernelspec": {
   "display_name": "neve",
   "language": "python",
   "name": "python3"
  },
  "language_info": {
   "codemirror_mode": {
    "name": "ipython",
    "version": 3
   },
   "file_extension": ".py",
   "mimetype": "text/x-python",
   "name": "python",
   "nbconvert_exporter": "python",
   "pygments_lexer": "ipython3",
   "version": "3.12.3"
  }
 },
 "nbformat": 4,
 "nbformat_minor": 5
}
